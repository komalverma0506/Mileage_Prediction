{
 "cells": [
  {
   "cell_type": "markdown",
   "metadata": {},
   "source": [
    "# Mileage Prediction\n",
    "\n",
    "\n",
    "***"
   ]
  },
  {
   "cell_type": "code",
   "execution_count": 95,
   "metadata": {},
   "outputs": [],
   "source": [
    "# Importing the libraries\n",
    "import numpy as np #Use for linear algebra\n",
    "import pandas as pd #Use for data processing\n",
    "import matplotlib.pyplot as plt #Library for making the visualizations\n",
    "import seaborn as sns #Library for making statistical graphics\n",
    "from sklearn.model_selection import train_test_split # to randomly split data into train and test part\n",
    "from sklearn.model_selection import StratifiedShuffleSplit #importing module for Stratified samplig\n",
    "from sklearn.preprocessing import StandardScaler # to scale numerical values\n",
    "from sklearn.impute import SimpleImputer # to impute missing values in Data\n",
    "from sklearn.preprocessing import OneHotEncoder, OrdinalEncoder # to convert categorical features into numberical feature\n",
    "from sklearn.pipeline import Pipeline # to build a data preprocessing pipeline\n",
    "from sklearn.compose import ColumnTransformer # to create customize transformer\n",
    "\n",
    "from sklearn.linear_model import LinearRegression, SGDRegressor\n",
    "from sklearn.tree import DecisionTreeRegressor\n",
    "from sklearn.svm import SVR\n",
    "from sklearn.ensemble import RandomForestRegressor\n",
    "from sklearn.neighbors import KNeighborsRegressor\n",
    "from sklearn.linear_model import Ridge\n",
    "from sklearn.preprocessing import PolynomialFeatures #Polynomial Algorithm\n",
    "from sklearn.linear_model import Ridge\n",
    "\n",
    "from sklearn.metrics import mean_squared_error, r2_score\n",
    "from sklearn.model_selection import cross_val_score\n",
    "from sklearn.model_selection import cross_validate\n",
    "from sklearn.model_selection import GridSearchCV\n",
    "\n",
    "import warnings # Use to ignore warnings\n",
    "warnings.filterwarnings('ignore')\n",
    "\n",
    "import os"
   ]
  },
  {
   "cell_type": "code",
   "execution_count": 69,
   "metadata": {},
   "outputs": [],
   "source": [
    "# Setting Plotting variables\n",
    "#sns.set_palette(\"GnBu_d\")\n",
    "plt.rcParams['figure.figsize'] = 10, 5\n",
    "plt.rcParams['figure.dpi'] = 100\n",
    "plt.rcParams[\"axes.spines.top\"] = True\n",
    "plt.rcParams[\"axes.spines.right\"] = True"
   ]
  },
  {
   "cell_type": "code",
   "execution_count": 70,
   "metadata": {},
   "outputs": [],
   "source": [
    "# Loading Data\n",
    "df= sns.load_dataset(\"mpg\")"
   ]
  },
  {
   "cell_type": "code",
   "execution_count": 71,
   "metadata": {},
   "outputs": [
    {
     "data": {
      "text/html": [
       "<div>\n",
       "<style scoped>\n",
       "    .dataframe tbody tr th:only-of-type {\n",
       "        vertical-align: middle;\n",
       "    }\n",
       "\n",
       "    .dataframe tbody tr th {\n",
       "        vertical-align: top;\n",
       "    }\n",
       "\n",
       "    .dataframe thead th {\n",
       "        text-align: right;\n",
       "    }\n",
       "</style>\n",
       "<table border=\"1\" class=\"dataframe\">\n",
       "  <thead>\n",
       "    <tr style=\"text-align: right;\">\n",
       "      <th></th>\n",
       "      <th>mpg</th>\n",
       "      <th>cylinders</th>\n",
       "      <th>displacement</th>\n",
       "      <th>horsepower</th>\n",
       "      <th>weight</th>\n",
       "      <th>acceleration</th>\n",
       "      <th>model_year</th>\n",
       "      <th>origin</th>\n",
       "      <th>name</th>\n",
       "    </tr>\n",
       "  </thead>\n",
       "  <tbody>\n",
       "    <tr>\n",
       "      <th>0</th>\n",
       "      <td>18.0</td>\n",
       "      <td>8</td>\n",
       "      <td>307.0</td>\n",
       "      <td>130.0</td>\n",
       "      <td>3504</td>\n",
       "      <td>12.0</td>\n",
       "      <td>70</td>\n",
       "      <td>usa</td>\n",
       "      <td>chevrolet chevelle malibu</td>\n",
       "    </tr>\n",
       "    <tr>\n",
       "      <th>1</th>\n",
       "      <td>15.0</td>\n",
       "      <td>8</td>\n",
       "      <td>350.0</td>\n",
       "      <td>165.0</td>\n",
       "      <td>3693</td>\n",
       "      <td>11.5</td>\n",
       "      <td>70</td>\n",
       "      <td>usa</td>\n",
       "      <td>buick skylark 320</td>\n",
       "    </tr>\n",
       "    <tr>\n",
       "      <th>2</th>\n",
       "      <td>18.0</td>\n",
       "      <td>8</td>\n",
       "      <td>318.0</td>\n",
       "      <td>150.0</td>\n",
       "      <td>3436</td>\n",
       "      <td>11.0</td>\n",
       "      <td>70</td>\n",
       "      <td>usa</td>\n",
       "      <td>plymouth satellite</td>\n",
       "    </tr>\n",
       "    <tr>\n",
       "      <th>3</th>\n",
       "      <td>16.0</td>\n",
       "      <td>8</td>\n",
       "      <td>304.0</td>\n",
       "      <td>150.0</td>\n",
       "      <td>3433</td>\n",
       "      <td>12.0</td>\n",
       "      <td>70</td>\n",
       "      <td>usa</td>\n",
       "      <td>amc rebel sst</td>\n",
       "    </tr>\n",
       "    <tr>\n",
       "      <th>4</th>\n",
       "      <td>17.0</td>\n",
       "      <td>8</td>\n",
       "      <td>302.0</td>\n",
       "      <td>140.0</td>\n",
       "      <td>3449</td>\n",
       "      <td>10.5</td>\n",
       "      <td>70</td>\n",
       "      <td>usa</td>\n",
       "      <td>ford torino</td>\n",
       "    </tr>\n",
       "  </tbody>\n",
       "</table>\n",
       "</div>"
      ],
      "text/plain": [
       "    mpg  cylinders  displacement  horsepower  weight  acceleration  \\\n",
       "0  18.0          8         307.0       130.0    3504          12.0   \n",
       "1  15.0          8         350.0       165.0    3693          11.5   \n",
       "2  18.0          8         318.0       150.0    3436          11.0   \n",
       "3  16.0          8         304.0       150.0    3433          12.0   \n",
       "4  17.0          8         302.0       140.0    3449          10.5   \n",
       "\n",
       "   model_year origin                       name  \n",
       "0          70    usa  chevrolet chevelle malibu  \n",
       "1          70    usa          buick skylark 320  \n",
       "2          70    usa         plymouth satellite  \n",
       "3          70    usa              amc rebel sst  \n",
       "4          70    usa                ford torino  "
      ]
     },
     "execution_count": 71,
     "metadata": {},
     "output_type": "execute_result"
    }
   ],
   "source": [
    "# Checking top 5 rows in dataset\n",
    "df.head()"
   ]
  },
  {
   "cell_type": "code",
   "execution_count": 72,
   "metadata": {},
   "outputs": [
    {
     "data": {
      "text/plain": [
       "(398, 9)"
      ]
     },
     "execution_count": 72,
     "metadata": {},
     "output_type": "execute_result"
    }
   ],
   "source": [
    "# Checking shape of data\n",
    "df.shape"
   ]
  },
  {
   "cell_type": "markdown",
   "metadata": {},
   "source": [
    "We have total 398 rows and 9 columns in our dataset"
   ]
  },
  {
   "cell_type": "code",
   "execution_count": 73,
   "metadata": {},
   "outputs": [
    {
     "name": "stdout",
     "output_type": "stream",
     "text": [
      "<class 'pandas.core.frame.DataFrame'>\n",
      "RangeIndex: 398 entries, 0 to 397\n",
      "Data columns (total 9 columns):\n",
      " #   Column        Non-Null Count  Dtype  \n",
      "---  ------        --------------  -----  \n",
      " 0   mpg           398 non-null    float64\n",
      " 1   cylinders     398 non-null    int64  \n",
      " 2   displacement  398 non-null    float64\n",
      " 3   horsepower    392 non-null    float64\n",
      " 4   weight        398 non-null    int64  \n",
      " 5   acceleration  398 non-null    float64\n",
      " 6   model_year    398 non-null    int64  \n",
      " 7   origin        398 non-null    object \n",
      " 8   name          398 non-null    object \n",
      "dtypes: float64(4), int64(3), object(2)\n",
      "memory usage: 28.1+ KB\n"
     ]
    }
   ],
   "source": [
    "# Checking information about all the columns\n",
    "df.info()"
   ]
  },
  {
   "cell_type": "markdown",
   "metadata": {},
   "source": [
    "From the above details we can say that we have only one column i.e. `horsepower` which is having 6 null values.\n",
    "\n",
    "Also, we can see that we have only 2 categorical columns: `origin` and `name`. Rest are numerical columns"
   ]
  },
  {
   "cell_type": "code",
   "execution_count": 74,
   "metadata": {},
   "outputs": [
    {
     "data": {
      "text/html": [
       "<div>\n",
       "<style scoped>\n",
       "    .dataframe tbody tr th:only-of-type {\n",
       "        vertical-align: middle;\n",
       "    }\n",
       "\n",
       "    .dataframe tbody tr th {\n",
       "        vertical-align: top;\n",
       "    }\n",
       "\n",
       "    .dataframe thead th {\n",
       "        text-align: right;\n",
       "    }\n",
       "</style>\n",
       "<table border=\"1\" class=\"dataframe\">\n",
       "  <thead>\n",
       "    <tr style=\"text-align: right;\">\n",
       "      <th></th>\n",
       "      <th>mpg</th>\n",
       "      <th>cylinders</th>\n",
       "      <th>displacement</th>\n",
       "      <th>horsepower</th>\n",
       "      <th>weight</th>\n",
       "      <th>acceleration</th>\n",
       "      <th>model_year</th>\n",
       "    </tr>\n",
       "  </thead>\n",
       "  <tbody>\n",
       "    <tr>\n",
       "      <th>count</th>\n",
       "      <td>398.000000</td>\n",
       "      <td>398.000000</td>\n",
       "      <td>398.000000</td>\n",
       "      <td>392.000000</td>\n",
       "      <td>398.000000</td>\n",
       "      <td>398.000000</td>\n",
       "      <td>398.000000</td>\n",
       "    </tr>\n",
       "    <tr>\n",
       "      <th>mean</th>\n",
       "      <td>23.514573</td>\n",
       "      <td>5.454774</td>\n",
       "      <td>193.425879</td>\n",
       "      <td>104.469388</td>\n",
       "      <td>2970.424623</td>\n",
       "      <td>15.568090</td>\n",
       "      <td>76.010050</td>\n",
       "    </tr>\n",
       "    <tr>\n",
       "      <th>std</th>\n",
       "      <td>7.815984</td>\n",
       "      <td>1.701004</td>\n",
       "      <td>104.269838</td>\n",
       "      <td>38.491160</td>\n",
       "      <td>846.841774</td>\n",
       "      <td>2.757689</td>\n",
       "      <td>3.697627</td>\n",
       "    </tr>\n",
       "    <tr>\n",
       "      <th>min</th>\n",
       "      <td>9.000000</td>\n",
       "      <td>3.000000</td>\n",
       "      <td>68.000000</td>\n",
       "      <td>46.000000</td>\n",
       "      <td>1613.000000</td>\n",
       "      <td>8.000000</td>\n",
       "      <td>70.000000</td>\n",
       "    </tr>\n",
       "    <tr>\n",
       "      <th>25%</th>\n",
       "      <td>17.500000</td>\n",
       "      <td>4.000000</td>\n",
       "      <td>104.250000</td>\n",
       "      <td>75.000000</td>\n",
       "      <td>2223.750000</td>\n",
       "      <td>13.825000</td>\n",
       "      <td>73.000000</td>\n",
       "    </tr>\n",
       "    <tr>\n",
       "      <th>50%</th>\n",
       "      <td>23.000000</td>\n",
       "      <td>4.000000</td>\n",
       "      <td>148.500000</td>\n",
       "      <td>93.500000</td>\n",
       "      <td>2803.500000</td>\n",
       "      <td>15.500000</td>\n",
       "      <td>76.000000</td>\n",
       "    </tr>\n",
       "    <tr>\n",
       "      <th>75%</th>\n",
       "      <td>29.000000</td>\n",
       "      <td>8.000000</td>\n",
       "      <td>262.000000</td>\n",
       "      <td>126.000000</td>\n",
       "      <td>3608.000000</td>\n",
       "      <td>17.175000</td>\n",
       "      <td>79.000000</td>\n",
       "    </tr>\n",
       "    <tr>\n",
       "      <th>max</th>\n",
       "      <td>46.600000</td>\n",
       "      <td>8.000000</td>\n",
       "      <td>455.000000</td>\n",
       "      <td>230.000000</td>\n",
       "      <td>5140.000000</td>\n",
       "      <td>24.800000</td>\n",
       "      <td>82.000000</td>\n",
       "    </tr>\n",
       "  </tbody>\n",
       "</table>\n",
       "</div>"
      ],
      "text/plain": [
       "              mpg   cylinders  displacement  horsepower       weight  \\\n",
       "count  398.000000  398.000000    398.000000  392.000000   398.000000   \n",
       "mean    23.514573    5.454774    193.425879  104.469388  2970.424623   \n",
       "std      7.815984    1.701004    104.269838   38.491160   846.841774   \n",
       "min      9.000000    3.000000     68.000000   46.000000  1613.000000   \n",
       "25%     17.500000    4.000000    104.250000   75.000000  2223.750000   \n",
       "50%     23.000000    4.000000    148.500000   93.500000  2803.500000   \n",
       "75%     29.000000    8.000000    262.000000  126.000000  3608.000000   \n",
       "max     46.600000    8.000000    455.000000  230.000000  5140.000000   \n",
       "\n",
       "       acceleration  model_year  \n",
       "count    398.000000  398.000000  \n",
       "mean      15.568090   76.010050  \n",
       "std        2.757689    3.697627  \n",
       "min        8.000000   70.000000  \n",
       "25%       13.825000   73.000000  \n",
       "50%       15.500000   76.000000  \n",
       "75%       17.175000   79.000000  \n",
       "max       24.800000   82.000000  "
      ]
     },
     "execution_count": 74,
     "metadata": {},
     "output_type": "execute_result"
    }
   ],
   "source": [
    "# Let's check the statistics of numerical columns\n",
    "df.describe()"
   ]
  },
  {
   "cell_type": "code",
   "execution_count": 75,
   "metadata": {},
   "outputs": [
    {
     "data": {
      "text/plain": [
       "mpg             0\n",
       "cylinders       0\n",
       "displacement    0\n",
       "horsepower      6\n",
       "weight          0\n",
       "acceleration    0\n",
       "model_year      0\n",
       "origin          0\n",
       "name            0\n",
       "dtype: int64"
      ]
     },
     "execution_count": 75,
     "metadata": {},
     "output_type": "execute_result"
    }
   ],
   "source": [
    "#Let's check the null value again for our conformation\n",
    "df.isna().sum()"
   ]
  },
  {
   "cell_type": "markdown",
   "metadata": {},
   "source": [
    "As we have seen above also that we have null values only in horsepower column and that is a numerical column than we are going to replace null values using median. This we will going to do using SimpleImputer while we are going to create a Pipeline "
   ]
  },
  {
   "cell_type": "code",
   "execution_count": 76,
   "metadata": {},
   "outputs": [
    {
     "data": {
      "image/png": "[encoded data removed]",
      "text/plain": [
       "<Figure size 500x200 with 1 Axes>"
      ]
     },
     "metadata": {
      "needs_background": "light"
     },
     "output_type": "display_data"
    },
    {
     "data": {
      "image/png": "[encoded data removed]",
      "text/plain": [
       "<Figure size 500x200 with 1 Axes>"
      ]
     },
     "metadata": {
      "needs_background": "light"
     },
     "output_type": "display_data"
    },
    {
     "data": {
      "image/png": "[encoded data removed]",
      "text/plain": [
       "<Figure size 500x200 with 1 Axes>"
      ]
     },
     "metadata": {
      "needs_background": "light"
     },
     "output_type": "display_data"
    },
    {
     "data": {
      "image/png": "[encoded data removed]",
      "text/plain": [
       "<Figure size 500x200 with 1 Axes>"
      ]
     },
     "metadata": {
      "needs_background": "light"
     },
     "output_type": "display_data"
    },
    {
     "data": {
      "image/png": "[encoded data removed]",
      "text/plain": [
       "<Figure size 500x200 with 1 Axes>"
      ]
     },
     "metadata": {
      "needs_background": "light"
     },
     "output_type": "display_data"
    },
    {
     "data": {
      "image/png": "[encoded data removed]",
      "text/plain": [
       "<Figure size 500x200 with 1 Axes>"
      ]
     },
     "metadata": {
      "needs_background": "light"
     },
     "output_type": "display_data"
    },
    {
     "data": {
      "image/png": "[encoded data removed]",
      "text/plain": [
       "<Figure size 500x200 with 1 Axes>"
      ]
     },
     "metadata": {
      "needs_background": "light"
     },
     "output_type": "display_data"
    }
   ],
   "source": [
    "# Now, let's check the outliers if any in numerical data\n",
    "plt.rcParams['figure.figsize'] = 5, 2\n",
    "num_data = df.select_dtypes(include=[\"float64\",\"int64\"])\n",
    "for col in num_data.columns:\n",
    "    sns.boxplot(df[col])\n",
    "    plt.title(col)\n",
    "    plt.show()"
   ]
  },
  {
   "cell_type": "markdown",
   "metadata": {},
   "source": [
    "From above plots, we can clearly see the outliers present in `horsepower` and `acceleration` columns.\n",
    "\n",
    "Like imputation of missing values, we can also impute outliers. We can use mean, median, zero value in this methods. Since we imputing there is no loss of data. Here median is appropriate because it is not affected by outliers.\n"
   ]
  },
  {
   "cell_type": "code",
   "execution_count": 77,
   "metadata": {},
   "outputs": [],
   "source": [
    "# Creating a function to deal with ouliers\n",
    "def outlier(df, column):\n",
    "    df[column].describe\n",
    "    Q1=df[column].describe().loc[\"25%\"]\n",
    "    Q3=df[column].describe().loc[\"75%\"]\n",
    "    IQR_hp=Q3-Q1\n",
    "    top_limit=Q3 + 1.5*IQR_hp\n",
    "    bottom_limit=Q1 - 1.5*IQR_hp\n",
    "    for i in df[column]:\n",
    "        if i > top_limit or i < bottom_limit:\n",
    "            df[column] = df[column].replace(i, np.median(df[column]))\n",
    "    return df\n",
    "df = outlier(df,\"acceleration\")\n",
    "df = outlier(df,\"horsepower\")"
   ]
  },
  {
   "cell_type": "markdown",
   "metadata": {},
   "source": [
    "We have replaced all the outliers with median values. Sometimes it is not necessary to remove outliers as it can be easily covered when we do scaling"
   ]
  },
  {
   "cell_type": "markdown",
   "metadata": {},
   "source": [
    "### Checking the correlation of every column with each other"
   ]
  },
  {
   "cell_type": "code",
   "execution_count": 78,
   "metadata": {},
   "outputs": [
    {
     "data": {
      "image/png": "[encoded data removed]",
      "text/plain": [
       "<Figure size 1500x700 with 2 Axes>"
      ]
     },
     "metadata": {
      "needs_background": "light"
     },
     "output_type": "display_data"
    }
   ],
   "source": [
    "# Checking correlation using heat map\n",
    "plt.rcParams['figure.figsize'] = 15, 7\n",
    "sns.heatmap(df.corr(), annot=True, fmt=\".2f\", cmap = \"magma\" )\n",
    "plt.title(\"Correlation Matrix\", fontsize=20)\n",
    "plt.show()"
   ]
  },
  {
   "cell_type": "markdown",
   "metadata": {},
   "source": [
    "### Seperating our features and target columns"
   ]
  },
  {
   "cell_type": "code",
   "execution_count": 79,
   "metadata": {},
   "outputs": [],
   "source": [
    "target = 'mpg'\n",
    "y = df[target]\n",
    "X = df.drop(target, axis=1)"
   ]
  },
  {
   "cell_type": "markdown",
   "metadata": {},
   "source": [
    "### Creating a pairplot to see the relation of features with the target value that is mpg"
   ]
  },
  {
   "cell_type": "code",
   "execution_count": 80,
   "metadata": {},
   "outputs": [
    {
     "data": {
      "image/png": "[encoded data removed]",
      "text/plain": [
       "<Figure size 1500x250 with 6 Axes>"
      ]
     },
     "metadata": {
      "needs_background": "light"
     },
     "output_type": "display_data"
    }
   ],
   "source": [
    "sns.pairplot(df, x_vars=['cylinders', 'displacement', 'horsepower', 'weight',\n",
    "       'acceleration', 'origin'], y_vars=[\"mpg\"], diag_kind = None)\n",
    "plt.show()"
   ]
  },
  {
   "cell_type": "markdown",
   "metadata": {},
   "source": [
    "From the above graphs, it is clear that `displacement`,`horsepower` and `weight` are making polynomial relation with the target.\n",
    "So for these 3 features, we are going to create polynomial features for generating a best fit line to train our data. "
   ]
  },
  {
   "cell_type": "markdown",
   "metadata": {},
   "source": [
    "### Splitting the data into training and test using Stratified Sampling"
   ]
  },
  {
   "cell_type": "code",
   "execution_count": 81,
   "metadata": {},
   "outputs": [],
   "source": [
    "# Creating a function for stratified sampling\n",
    "def stratified_sample(X, y, col, test_size=0.2, random_state=123):\n",
    "    split = StratifiedShuffleSplit(n_splits=1, test_size=test_size,\n",
    "                                  random_state=random_state)\n",
    "    for train_idxs, test_idxs in split.split(X, X[col]):\n",
    "        X_train = X.iloc[train_idxs]\n",
    "        y_train = y.iloc[train_idxs]\n",
    "        X_test  = X.iloc[test_idxs]\n",
    "        y_test  = y.iloc[test_idxs]\n",
    "    return X_train, X_test, y_train, y_test"
   ]
  },
  {
   "cell_type": "code",
   "execution_count": 82,
   "metadata": {},
   "outputs": [],
   "source": [
    "# Splitting data into train and test set\n",
    "X_train, X_test, y_train, y_test = stratified_sample(X, y, 'origin')"
   ]
  },
  {
   "cell_type": "markdown",
   "metadata": {},
   "source": [
    "Now as we have done splitting of our data, let's check the shape of test and train data"
   ]
  },
  {
   "cell_type": "code",
   "execution_count": 83,
   "metadata": {},
   "outputs": [
    {
     "name": "stdout",
     "output_type": "stream",
     "text": [
      "Training Set Shape: (318, 8)\n",
      "Testing Set Shape: (80, 8)\n"
     ]
    }
   ],
   "source": [
    "print(f\"Training Set Shape: {X_train.shape}\")\n",
    "print(f\"Testing Set Shape: {X_test.shape}\")"
   ]
  },
  {
   "cell_type": "code",
   "execution_count": 84,
   "metadata": {},
   "outputs": [
    {
     "data": {
      "text/html": [
       "<div>\n",
       "<style scoped>\n",
       "    .dataframe tbody tr th:only-of-type {\n",
       "        vertical-align: middle;\n",
       "    }\n",
       "\n",
       "    .dataframe tbody tr th {\n",
       "        vertical-align: top;\n",
       "    }\n",
       "\n",
       "    .dataframe thead th {\n",
       "        text-align: right;\n",
       "    }\n",
       "</style>\n",
       "<table border=\"1\" class=\"dataframe\">\n",
       "  <thead>\n",
       "    <tr style=\"text-align: right;\">\n",
       "      <th></th>\n",
       "      <th>cylinders</th>\n",
       "      <th>displacement</th>\n",
       "      <th>horsepower</th>\n",
       "      <th>weight</th>\n",
       "      <th>acceleration</th>\n",
       "      <th>model_year</th>\n",
       "      <th>origin</th>\n",
       "      <th>name</th>\n",
       "    </tr>\n",
       "  </thead>\n",
       "  <tbody>\n",
       "    <tr>\n",
       "      <th>392</th>\n",
       "      <td>4</td>\n",
       "      <td>151.0</td>\n",
       "      <td>90.0</td>\n",
       "      <td>2950</td>\n",
       "      <td>17.3</td>\n",
       "      <td>82</td>\n",
       "      <td>usa</td>\n",
       "      <td>chevrolet camaro</td>\n",
       "    </tr>\n",
       "    <tr>\n",
       "      <th>345</th>\n",
       "      <td>4</td>\n",
       "      <td>81.0</td>\n",
       "      <td>60.0</td>\n",
       "      <td>1760</td>\n",
       "      <td>16.1</td>\n",
       "      <td>81</td>\n",
       "      <td>japan</td>\n",
       "      <td>honda civic 1300</td>\n",
       "    </tr>\n",
       "    <tr>\n",
       "      <th>397</th>\n",
       "      <td>4</td>\n",
       "      <td>119.0</td>\n",
       "      <td>82.0</td>\n",
       "      <td>2720</td>\n",
       "      <td>19.4</td>\n",
       "      <td>82</td>\n",
       "      <td>usa</td>\n",
       "      <td>chevy s-10</td>\n",
       "    </tr>\n",
       "    <tr>\n",
       "      <th>383</th>\n",
       "      <td>4</td>\n",
       "      <td>91.0</td>\n",
       "      <td>67.0</td>\n",
       "      <td>1965</td>\n",
       "      <td>15.0</td>\n",
       "      <td>82</td>\n",
       "      <td>japan</td>\n",
       "      <td>honda civic</td>\n",
       "    </tr>\n",
       "    <tr>\n",
       "      <th>68</th>\n",
       "      <td>8</td>\n",
       "      <td>350.0</td>\n",
       "      <td>155.0</td>\n",
       "      <td>4502</td>\n",
       "      <td>13.5</td>\n",
       "      <td>72</td>\n",
       "      <td>usa</td>\n",
       "      <td>buick lesabre custom</td>\n",
       "    </tr>\n",
       "  </tbody>\n",
       "</table>\n",
       "</div>"
      ],
      "text/plain": [
       "     cylinders  displacement  horsepower  weight  acceleration  model_year  \\\n",
       "392          4         151.0        90.0    2950          17.3          82   \n",
       "345          4          81.0        60.0    1760          16.1          81   \n",
       "397          4         119.0        82.0    2720          19.4          82   \n",
       "383          4          91.0        67.0    1965          15.0          82   \n",
       "68           8         350.0       155.0    4502          13.5          72   \n",
       "\n",
       "    origin                  name  \n",
       "392    usa      chevrolet camaro  \n",
       "345  japan      honda civic 1300  \n",
       "397    usa            chevy s-10  \n",
       "383  japan           honda civic  \n",
       "68     usa  buick lesabre custom  "
      ]
     },
     "execution_count": 84,
     "metadata": {},
     "output_type": "execute_result"
    }
   ],
   "source": [
    "# Let's check head of training data\n",
    "X_train.head()"
   ]
  },
  {
   "cell_type": "markdown",
   "metadata": {},
   "source": [
    "Above we can see that we have three categorical columns i.e. `cylinder`,`origin` and `name`.\n",
    "We are going to drop `name` column as it is of no use for us in this analysis. We will going to use OneHotEncoder for `cylinder` and `origin` columns.\n",
    "\n",
    "We are going to apply `PolynomialFeature` on `displacement`, `horsepower` and `weight` columns as they have polynomial relationship with target.\n",
    "\n",
    "On `Acceleration` column we are going to use `StandardScalar`.\n",
    "\n",
    "We are going to do everything by making a `Pipeline`"
   ]
  },
  {
   "cell_type": "markdown",
   "metadata": {},
   "source": [
    "### Creating a Pipeline"
   ]
  },
  {
   "cell_type": "code",
   "execution_count": 85,
   "metadata": {},
   "outputs": [],
   "source": [
    "# Let's create different columns to apply different functions on them\n",
    "cat_features = [\"cylinders\",\"origin\"]\n",
    "poly_features = [\"displacement\",\"horsepower\",\"weight\"] \n",
    "num_features = [\"acceleration\"]\n",
    "drop_features = [\"name\",\"model_year\"] "
   ]
  },
  {
   "cell_type": "code",
   "execution_count": 86,
   "metadata": {},
   "outputs": [],
   "source": [
    "# Creating pipeline for polynomial colums\n",
    "poly_pipeline = Pipeline([\n",
    "    ('imputer', SimpleImputer(strategy='median')), \n",
    "    ('poly', PolynomialFeatures(degree=2, include_bias=False)),\n",
    "    ('standard scaler', StandardScaler())\n",
    "])\n",
    "\n",
    "# Creating final pipeline\n",
    "final_pipeline = ColumnTransformer([\n",
    "        # (name, Transformer, column_list)\n",
    "        (\"categorical pipeline\", OneHotEncoder(), cat_features),\n",
    "        (\"polynomial pipeline\",poly_pipeline,poly_features),\n",
    "        (\"numerical pipeline\", StandardScaler(), num_features),\n",
    "        ('remove features', 'drop', drop_features)       \n",
    "    ])"
   ]
  },
  {
   "cell_type": "markdown",
   "metadata": {},
   "source": [
    "Now, as we have created a pipline to transform our data.\n",
    "\n",
    "Let's define some of the functions to calculate `error` and `accuracy`"
   ]
  },
  {
   "cell_type": "markdown",
   "metadata": {},
   "source": [
    "### Making a function to find out the Root mean squared error and Accuracy(r2 score)"
   ]
  },
  {
   "cell_type": "code",
   "execution_count": 87,
   "metadata": {},
   "outputs": [],
   "source": [
    "# Function to calculate RSME score\n",
    "def rmse(y, y_hat):\n",
    "    return np.sqrt(mean_squared_error(y, y_hat))\n",
    "\n",
    "# Function to generate Model Reports\n",
    "def model_report(models, X_train, X_test, y_train, y_test):\n",
    "    for name, model in models:\n",
    "        val_score = cross_validate(model, X_train, y_train, cv=5, scoring=[\"neg_mean_squared_error\",'r2'])\n",
    "        val_error = np.sqrt(-val_score['test_neg_mean_squared_error'])\n",
    "        error = val_error[np.argmin(val_error)]\n",
    "        val_acc = max(val_score['test_r2'])\n",
    "        model.fit(X_train, y_train)\n",
    "        y_hat_train = model.predict(X_train)\n",
    "        y_hat_test  = model.predict(X_test)\n",
    "        print(\"_\"*80)\n",
    "        print(f\"Report For {name}\".center(80))\n",
    "        print()\n",
    "        print(f\"Training RMSE Error: {rmse(y_train, y_hat_train):.2f}\" )\n",
    "        print(f\"Validation    Error: {error:.2f}\" )\n",
    "        print(f\"Test     RMSE Error: {rmse(y_test, y_hat_test):.2f}\")\n",
    "        print()\n",
    "        print(f\"Training   Accuracy: {r2_score(y_train, y_hat_train):.2f}\")\n",
    "        print(f\"Validation Accuracy: {val_acc:.2f}\")\n",
    "        print(f\"Test       Accuracy: {r2_score(y_test, y_hat_test):.2f}\")\n",
    "        print('\\n\\n')"
   ]
  },
  {
   "cell_type": "code",
   "execution_count": 88,
   "metadata": {},
   "outputs": [
    {
     "name": "stdout",
     "output_type": "stream",
     "text": [
      "________________________________________________________________________________\n",
      "                          Report For Linear Regression                          \n",
      "\n",
      "Training RMSE Error: 3.53\n",
      "Validation    Error: 3.25\n",
      "Test     RMSE Error: 4.33\n",
      "\n",
      "Training   Accuracy: 0.79\n",
      "Validation Accuracy: 0.84\n",
      "Test       Accuracy: 0.71\n",
      "\n",
      "\n",
      "\n",
      "________________________________________________________________________________\n",
      "                            Report For SGD Regressor                            \n",
      "\n",
      "Training RMSE Error: 3.72\n",
      "Validation    Error: 3.23\n",
      "Test     RMSE Error: 4.44\n",
      "\n",
      "Training   Accuracy: 0.77\n",
      "Validation Accuracy: 0.82\n",
      "Test       Accuracy: 0.70\n",
      "\n",
      "\n",
      "\n",
      "________________________________________________________________________________\n",
      "                            Report For Decision Tree                            \n",
      "\n",
      "Training RMSE Error: 0.12\n",
      "Validation    Error: 3.96\n",
      "Test     RMSE Error: 5.56\n",
      "\n",
      "Training   Accuracy: 1.00\n",
      "Validation Accuracy: 0.72\n",
      "Test       Accuracy: 0.53\n",
      "\n",
      "\n",
      "\n",
      "________________________________________________________________________________\n",
      "                       Report For Support Vector Machines                       \n",
      "\n",
      "Training RMSE Error: 3.74\n",
      "Validation    Error: 3.29\n",
      "Test     RMSE Error: 4.44\n",
      "\n",
      "Training   Accuracy: 0.77\n",
      "Validation Accuracy: 0.81\n",
      "Test       Accuracy: 0.70\n",
      "\n",
      "\n",
      "\n",
      "________________________________________________________________________________\n",
      "                            Report For Random Forest                            \n",
      "\n",
      "Training RMSE Error: 1.39\n",
      "Validation    Error: 2.86\n",
      "Test     RMSE Error: 4.17\n",
      "\n",
      "Training   Accuracy: 0.97\n",
      "Validation Accuracy: 0.88\n",
      "Test       Accuracy: 0.73\n",
      "\n",
      "\n",
      "\n",
      "________________________________________________________________________________\n",
      "                         Report For K-Nearest Neighbors                         \n",
      "\n",
      "Training RMSE Error: 3.04\n",
      "Validation    Error: 3.22\n",
      "Test     RMSE Error: 4.64\n",
      "\n",
      "Training   Accuracy: 0.85\n",
      "Validation Accuracy: 0.83\n",
      "Test       Accuracy: 0.67\n",
      "\n",
      "\n",
      "\n"
     ]
    }
   ],
   "source": [
    "# Fitting and transforming train data\n",
    "X_train_tr = final_pipeline.fit_transform(X_train)\n",
    "\n",
    "# Transforming test data\n",
    "X_test_tr  =  final_pipeline.transform(X_test)\n",
    "\n",
    "# Models through which we want our data to be trained\n",
    "models = [\n",
    "        ('Linear Regression', LinearRegression()),\n",
    "        ('SGD Regressor', SGDRegressor()),\n",
    "        ('Decision Tree', DecisionTreeRegressor()),\n",
    "        ('Support Vector Machines', SVR(kernel='linear')),\n",
    "        ('Random Forest', RandomForestRegressor()),\n",
    "        ('K-Nearest Neighbors', KNeighborsRegressor())\n",
    "       ]\n",
    "# Generating model reports\n",
    "model_report(models, X_train_tr, X_test_tr, y_train, y_test)"
   ]
  },
  {
   "cell_type": "markdown",
   "metadata": {},
   "source": [
    "From the model reports we can see that `LinearRegressor` and `SGDRegressor` are giving good fit..\n",
    "\n",
    "Let's try to hyper tune `SGDRegressor` model to get high accuracy using `GridSearchCV`"
   ]
  },
  {
   "cell_type": "markdown",
   "metadata": {},
   "source": [
    "### Now doing hyperparameter tuning  and checking the Accuracy"
   ]
  },
  {
   "cell_type": "code",
   "execution_count": 93,
   "metadata": {},
   "outputs": [
    {
     "name": "stdout",
     "output_type": "stream",
     "text": [
      "Best Parameters : {'alpha': 0.0001, 'eta0': 0.1, 'tol': 0.01}\n",
      "\n",
      "\n",
      "\n",
      "Top 10 Models\n",
      "|     |   Training Score   |      Test Score     | Parameters|\n",
      "______________________________________________________________________________________________________________\n",
      "\n",
      "|1    |        0.76        |         0.75        | {'alpha': 0.0001, 'eta0': 0.1, 'tol': 0.01}|\n",
      "______________________________________________________________________________________________________________\n",
      "\n",
      "|2    |        0.75        |         0.73        | {'alpha': 0.01, 'eta0': 0.01, 'tol': 1e-05}|\n",
      "______________________________________________________________________________________________________________\n",
      "\n",
      "|3    |        0.75        |         0.73        | {'alpha': 0.01, 'eta0': 0.01, 'tol': 0.001}|\n",
      "______________________________________________________________________________________________________________\n",
      "\n",
      "|4    |        0.75        |         0.73        | {'alpha': 0.001, 'eta0': 0.1, 'tol': 1e-05}|\n",
      "______________________________________________________________________________________________________________\n",
      "\n",
      "|5    |        0.76        |         0.73        | {'alpha': 0.0001, 'eta0': 0.1, 'tol': 1e-05}|\n",
      "______________________________________________________________________________________________________________\n",
      "\n",
      "|6    |        0.76        |         0.73        | {'alpha': 0.0001, 'eta0': 0.1, 'tol': 0.0001}|\n",
      "______________________________________________________________________________________________________________\n",
      "\n",
      "|7    |        0.73        |         0.72        | {'alpha': 0.1, 'eta0': 0.1, 'tol': 1e-05}|\n",
      "______________________________________________________________________________________________________________\n",
      "\n",
      "|8    |        0.74        |         0.72        | {'alpha': 0.1, 'eta0': 0.1, 'tol': 0.01}|\n",
      "______________________________________________________________________________________________________________\n",
      "\n",
      "|9    |        0.75        |         0.72        | {'alpha': 0.01, 'eta0': 0.01, 'tol': 0.0001}|\n",
      "______________________________________________________________________________________________________________\n",
      "\n",
      "|10   |        0.74        |         0.72        | {'alpha': 0.01, 'eta0': 0.01, 'tol': 0.01}|\n",
      "______________________________________________________________________________________________________________\n",
      "\n"
     ]
    }
   ],
   "source": [
    "# Setting the parameters\n",
    "param_grid = [{\n",
    "        'eta0' : [0.01,0.001,0.0001,0.1],\n",
    "        'tol'  : [0.00001,0.0001,0.001,0.01,0.1], \n",
    "        'alpha': [0.1,0.01,0.001,0.0001]\n",
    "       }] \n",
    "    \n",
    "# Creating object of GridSearch\n",
    "grid_search = GridSearchCV(SGDRegressor(early_stopping=True), param_grid, cv=5,\n",
    "                      scoring=\"r2\", return_train_score=True)\n",
    "\n",
    "# fitting on training set\n",
    "grid_search.fit(X_train_tr, y_train)\n",
    "\n",
    "# Checking best parameters of best model\n",
    "best_parameters = grid_search.best_params_\n",
    "print(f\"Best Parameters : {best_parameters}\")\n",
    "print(\"\\n\\n\")\n",
    "\n",
    "# Storing result of best model\n",
    "result = grid_search.cv_results_\n",
    "\n",
    "# Taking out training error\n",
    "train_scores = np.round(result['mean_train_score'], 2)\n",
    "\n",
    "# Taking out test error\n",
    "test_scores  = np.round(result['mean_test_score'], 2)\n",
    "\n",
    "# Parameters used for finding accuracy\n",
    "parameters = result['params']\n",
    "\n",
    "# Storing train error, test error and parameters in a list\n",
    "scores = [ (tr, ts, pr) for tr, ts, pr in zip(train_scores, test_scores, parameters) ]\n",
    "\n",
    "# Sorting the score\n",
    "scores.sort(key=lambda x:x[1], reverse=True)\n",
    "\n",
    "# Top 10 Models\n",
    "print(\"Top 10 Models\")\n",
    "strformat = \"|{:<5}|{:^20}| {:^20}| {}|\\n{}\\n\"\n",
    "lb =  '_'*110\n",
    "print(strformat.format(\"\", \"Training Score\", \"Test Score\", \"Parameters\", lb))\n",
    "for ix, (tr, ts, pr) in enumerate(scores[:10]):\n",
    "    print(strformat.format(ix+1, tr, ts, pr, lb))"
   ]
  },
  {
   "cell_type": "markdown",
   "metadata": {},
   "source": [
    "Let's use the parameters used in 2nd top model as it is giving the good fit model.\n",
    "\n",
    "Using the above hyper parameters to set for SGD model, checking the Accuracy and score again."
   ]
  },
  {
   "cell_type": "markdown",
   "metadata": {},
   "source": [
    "### Now again checking the accuracy using hyperparameter in SGD model "
   ]
  },
  {
   "cell_type": "code",
   "execution_count": 101,
   "metadata": {},
   "outputs": [
    {
     "name": "stdout",
     "output_type": "stream",
     "text": [
      "________________________________________________________________________________\n",
      "                          Report For Linear Regression                          \n",
      "\n",
      "Training RMSE Error: 3.55\n",
      "Validation    Error: 3.21\n",
      "Test     RMSE Error: 4.33\n",
      "\n",
      "Training   Accuracy: 0.79\n",
      "Validation Accuracy: 0.84\n",
      "Test       Accuracy: 0.71\n",
      "\n",
      "\n",
      "\n",
      "________________________________________________________________________________\n",
      "                            Report For SGD Regressor                            \n",
      "\n",
      "Training RMSE Error: 3.76\n",
      "Validation    Error: 3.04\n",
      "Test     RMSE Error: 4.58\n",
      "\n",
      "Training   Accuracy: 0.76\n",
      "Validation Accuracy: 0.85\n",
      "Test       Accuracy: 0.68\n",
      "\n",
      "\n",
      "\n"
     ]
    }
   ],
   "source": [
    "# Importing the libraries\n",
    "import numpy as np #Use for linear algebra\n",
    "import pandas as pd #Use for data processing\n",
    "import matplotlib.pyplot as plt #Library for making the visualizations\n",
    "import seaborn as sns #Library for making statistical graphics\n",
    "from sklearn.model_selection import train_test_split # to randomly split data into train and test part\n",
    "from sklearn.model_selection import StratifiedShuffleSplit #importing module for Stratified samplig\n",
    "from sklearn.preprocessing import StandardScaler # to scale numerical values\n",
    "from sklearn.impute import SimpleImputer # to impute missing values in Data\n",
    "from sklearn.preprocessing import OneHotEncoder, OrdinalEncoder # to convert categorical features into numberical feature\n",
    "from sklearn.pipeline import Pipeline # to build a data preprocessing pipeline\n",
    "from sklearn.compose import ColumnTransformer # to create customize transformer\n",
    "\n",
    "from sklearn.linear_model import LinearRegression, SGDRegressor\n",
    "from sklearn.tree import DecisionTreeRegressor\n",
    "from sklearn.svm import SVR\n",
    "from sklearn.ensemble import RandomForestRegressor\n",
    "from sklearn.neighbors import KNeighborsRegressor\n",
    "from sklearn.linear_model import Ridge\n",
    "from sklearn.preprocessing import PolynomialFeatures #Polynomial Algorithm\n",
    "from sklearn.linear_model import Ridge\n",
    "\n",
    "from sklearn.metrics import mean_squared_error, r2_score\n",
    "from sklearn.model_selection import cross_val_score\n",
    "from sklearn.model_selection import cross_validate\n",
    "from sklearn.model_selection import GridSearchCV\n",
    "\n",
    "import warnings # Use to ignore warnings\n",
    "warnings.filterwarnings('ignore')\n",
    "\n",
    "import os\n",
    "\n",
    "# Loading Data\n",
    "df= sns.load_dataset(\"mpg\")\n",
    "\n",
    "# Function to calculate RSME score\n",
    "def rmse(y, y_hat):\n",
    "    return np.sqrt(mean_squared_error(y, y_hat))\n",
    "\n",
    "# Function to generate Model Reports\n",
    "def model_report(models, X_train, X_test, y_train, y_test):\n",
    "    for name, model in models:\n",
    "        val_score = cross_validate(model, X_train, y_train, cv=5, scoring=[\"neg_mean_squared_error\",'r2'])\n",
    "        val_error = np.sqrt(-val_score['test_neg_mean_squared_error'])\n",
    "        error = val_error[np.argmin(val_error)]\n",
    "        val_acc = max(val_score['test_r2'])\n",
    "        model.fit(X_train, y_train)\n",
    "        y_hat_train = model.predict(X_train)\n",
    "        y_hat_test  = model.predict(X_test)\n",
    "        print(\"_\"*80)\n",
    "        print(f\"Report For {name}\".center(80))\n",
    "        print()\n",
    "        print(f\"Training RMSE Error: {rmse(y_train, y_hat_train):.2f}\" )\n",
    "        print(f\"Validation    Error: {error:.2f}\" )\n",
    "        print(f\"Test     RMSE Error: {rmse(y_test, y_hat_test):.2f}\")\n",
    "        print()\n",
    "        print(f\"Training   Accuracy: {r2_score(y_train, y_hat_train):.2f}\")\n",
    "        print(f\"Validation Accuracy: {val_acc:.2f}\")\n",
    "        print(f\"Test       Accuracy: {r2_score(y_test, y_hat_test):.2f}\")\n",
    "        print('\\n\\n')\n",
    "\n",
    "# Creating a function to deal with ouliers\n",
    "def outlier(df, column):\n",
    "    df[column].describe\n",
    "    Q1=df[column].describe().loc[\"25%\"]\n",
    "    Q3=df[column].describe().loc[\"75%\"]\n",
    "    IQR_hp=Q3-Q1\n",
    "    top_limit=Q3 + 1.5*IQR_hp\n",
    "    bottom_limit=Q1 - 1.5*IQR_hp\n",
    "    for i in df[column]:\n",
    "        if i > top_limit or i < bottom_limit:\n",
    "            df[column] = df[column].replace(i, np.median(df[column]))\n",
    "    return df\n",
    "df = outlier(df,\"acceleration\")\n",
    "df = outlier(df,\"horsepower\")\n",
    "\n",
    "# Seperating target and features\n",
    "target = 'mpg'\n",
    "y = df[target]\n",
    "X = df.drop(target, axis=1)\n",
    "\n",
    "# Creating a function for stratified sampling\n",
    "def stratified_sample(X, y, col, test_size=0.2, random_state=123):\n",
    "    split = StratifiedShuffleSplit(n_splits=1, test_size=test_size,\n",
    "                                  random_state=random_state)\n",
    "    for train_idxs, test_idxs in split.split(X, X[col]):\n",
    "        X_train = X.iloc[train_idxs]\n",
    "        y_train = y.iloc[train_idxs]\n",
    "        X_test  = X.iloc[test_idxs]\n",
    "        y_test  = y.iloc[test_idxs]\n",
    "    return X_train, X_test, y_train, y_test\n",
    "\n",
    "# Splitting data into train and test set\n",
    "X_train, X_test, y_train, y_test = stratified_sample(X, y, 'origin')\n",
    "\n",
    "# Let's create different columns to apply different functions on them\n",
    "cat_features = [\"cylinders\",\"origin\"]\n",
    "poly_features = [\"displacement\",\"horsepower\",\"weight\"] \n",
    "num_features = [\"acceleration\"]\n",
    "drop_features = [\"name\",\"model_year\"] \n",
    "\n",
    "# Creating pipeline for polynomial colums\n",
    "poly_pipeline = Pipeline([\n",
    "    ('imputer', SimpleImputer(strategy='median')), \n",
    "    ('poly', PolynomialFeatures(degree=2, include_bias=False)),\n",
    "    ('standard scaler', StandardScaler())\n",
    "])\n",
    "\n",
    "# Creating final pipeline\n",
    "final_pipeline = ColumnTransformer([\n",
    "        # (name, Transformer, column_list)\n",
    "        (\"categorical pipeline\", OneHotEncoder(), cat_features),\n",
    "        (\"polynomial pipeline\",poly_pipeline,poly_features),\n",
    "        (\"numerical pipeline\", StandardScaler(), num_features),\n",
    "        ('remove features', 'drop', drop_features)       \n",
    "    ])\n",
    "\n",
    "# Fitting and transforming train data\n",
    "X_train_tr = final_pipeline.fit_transform(X_train)\n",
    "\n",
    "# Transforming test data\n",
    "X_test_tr  =  final_pipeline.transform(X_test)\n",
    "\n",
    "# Models through which we want our data to be trained\n",
    "models = [\n",
    "        ('Linear Regression', Ridge(alpha=0.6)),\n",
    "        ('SGD Regressor', SGDRegressor(eta0 = 0.1, tol = 0.01, early_stopping = True))]\n",
    "\n",
    "\n",
    "# Generating model reports\n",
    "model_report(models, X_train_tr, X_test_tr, y_train, y_test)"
   ]
  },
  {
   "cell_type": "markdown",
   "metadata": {},
   "source": [
    "***\n",
    "**Tried first time with hyperparmater tuning, but the conclusion was the accuracy of SGD model with the hyperparameter comes out to be less as compared without it.**\n",
    "\n",
    "\n",
    "***"
   ]
  },
  {
   "cell_type": "code",
   "execution_count": null,
   "metadata": {},
   "outputs": [],
   "source": []
  }
 ],
 "metadata": {
  "kernelspec": {
   "display_name": "Python 3",
   "language": "python",
   "name": "python3"
  },
  "language_info": {
   "codemirror_mode": {
    "name": "ipython",
    "version": 3
   },
   "file_extension": ".py",
   "mimetype": "text/x-python",
   "name": "python",
   "nbconvert_exporter": "python",
   "pygments_lexer": "ipython3",
   "version": "3.8.5"
  }
 },
 "nbformat": 4,
 "nbformat_minor": 4
}
